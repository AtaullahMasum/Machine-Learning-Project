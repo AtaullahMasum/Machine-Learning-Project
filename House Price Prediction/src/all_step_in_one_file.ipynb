{
 "cells": [
  {
   "cell_type": "code",
   "execution_count": 7,
   "id": "07a5941e",
   "metadata": {},
   "outputs": [],
   "source": [
    "import numpy as np\n",
    "import pandas as pd\n",
    "import os\n",
    "from sklearn.model_selection import train_test_split, cross_val_score, KFold\n",
    "from sklearn.ensemble import RandomForestRegressor, GradientBoostingRegressor, AdaBoostRegressor, BaggingRegressor, ExtraTreesRegressor, StackingRegressor, VotingRegressor, HistGradientBoostingRegressor\n",
    "from sklearn.linear_model import LinearRegression, Ridge, Lasso, ElasticNet, BayesianRidge, LassoLarsIC\n",
    "from sklearn.pipeline import Pipeline\n",
    "from sklearn.preprocessing import StandardScaler, MinMaxScaler, RobustScaler, PowerTransformer, QuantileTransformer, OneHotEncoder, OrdinalEncoder\n",
    "from sklearn.impute import SimpleImputer\n",
    "from sklearn.compose import ColumnTransformer\n",
    "from xgboost import XGBRegressor\n",
    "import joblib\n",
    "import warnings\n",
    "warnings.filterwarnings(\"ignore\")\n",
    "from data_utils import load_data, log_target, inv_log_target\n",
    "from features import FillMissingTransformer, NumericSelector, CatagoricalSelector"
   ]
  },
  {
   "cell_type": "code",
   "execution_count": 6,
   "id": "8d0b3863",
   "metadata": {},
   "outputs": [],
   "source": [
    "train = pd.read_csv('../data/train.csv')\n",
    "test = pd.read_csv('../data/test.csv')"
   ]
  },
  {
   "cell_type": "code",
   "execution_count": 8,
   "id": "e663c818",
   "metadata": {},
   "outputs": [],
   "source": [
    "# 2. Target transformation\n",
    "train[\"price_log\"] = log_target(train[\"price\"])"
   ]
  },
  {
   "cell_type": "code",
   "execution_count": 19,
   "id": "e614a594",
   "metadata": {},
   "outputs": [
    {
     "data": {
      "text/plain": [
       "Index(['price', 'area', 'bedrooms', 'bathrooms', 'stories', 'mainroad',\n",
       "       'guestroom', 'basement', 'hotwaterheating', 'airconditioning',\n",
       "       'parking', 'prefarea', 'furnishingstatus', 'price_log'],\n",
       "      dtype='object')"
      ]
     },
     "execution_count": 19,
     "metadata": {},
     "output_type": "execute_result"
    }
   ],
   "source": [
    "train.columns"
   ]
  },
  {
   "cell_type": "markdown",
   "id": "a1c2f823",
   "metadata": {},
   "source": [
    "#### 3. Feature selection: simple numeric + some categorical as example\n",
    "#### you can expand this list with domain features"
   ]
  },
  {
   "cell_type": "code",
   "execution_count": 29,
   "id": "4077d32e",
   "metadata": {},
   "outputs": [],
   "source": [
    "numeric_feats = train.select_dtypes(include=[np.number]).columns.tolist()\n",
    "categorical_feats = train.select_dtypes(include=['object']).columns.tolist()"
   ]
  },
  {
   "cell_type": "code",
   "execution_count": 30,
   "id": "ba9a16ee",
   "metadata": {},
   "outputs": [],
   "source": [
    "numeric_feats.remove('price_log')\n",
    "numeric_feats.remove('price')"
   ]
  },
  {
   "cell_type": "markdown",
   "id": "74aabf23",
   "metadata": {},
   "source": [
    "### Custom Pipeline"
   ]
  },
  {
   "cell_type": "code",
   "execution_count": 31,
   "id": "b06ece97",
   "metadata": {},
   "outputs": [],
   "source": [
    "numeric_pipeline = Pipeline(steps=[\n",
    "  ('num_selector', NumericSelector(numeric_feats)),\n",
    "  ('fill_missing', FillMissingTransformer()),\n",
    "  ('scaler', StandardScaler())\n",
    "])"
   ]
  },
  {
   "cell_type": "code",
   "execution_count": 32,
   "id": "54b2075c",
   "metadata": {},
   "outputs": [],
   "source": [
    "categorical_pipeline = Pipeline(steps=[\n",
    "  ('cat_selector', CatagoricalSelector(categorical_feats)),\n",
    "  ('imputer', FillMissingTransformer()),\n",
    "  ('onehot', OneHotEncoder(handle_unknown='ignore'))\n",
    "])"
   ]
  },
  {
   "cell_type": "markdown",
   "id": "9af898e5",
   "metadata": {},
   "source": [
    "###  5. ColumnTransformer to Combine"
   ]
  },
  {
   "cell_type": "code",
   "execution_count": 33,
   "id": "310fbd59",
   "metadata": {},
   "outputs": [],
   "source": [
    "preprocessor = ColumnTransformer(\n",
    "    transformers=[\n",
    "      ('numeric', numeric_pipeline, numeric_feats),\n",
    "      ('categorical', categorical_pipeline, categorical_feats)\n",
    "    ], remainder='drop')"
   ]
  },
  {
   "cell_type": "markdown",
   "id": "93558f14",
   "metadata": {},
   "source": [
    "#### Pipeline using Built in function"
   ]
  },
  {
   "cell_type": "code",
   "execution_count": 36,
   "id": "5673e6d7",
   "metadata": {},
   "outputs": [],
   "source": [
    "# 4. Preprocessors\n",
    "numeric_transformer = Pipeline(steps=[\n",
    "    (\"imputer\", SimpleImputer(strategy=\"median\")),\n",
    "    (\"scaler\", StandardScaler())\n",
    "])\n",
    "\n",
    "categorical_transformer = Pipeline(steps=[\n",
    "    (\"imputer\", SimpleImputer(strategy=\"most_frequent\", fill_value=\"None\")),\n",
    "    (\"onehot\", OneHotEncoder(handle_unknown=\"ignore\"))\n",
    "])\n",
    "\n",
    "preprocessor1 = ColumnTransformer(transformers=[\n",
    "    (\"num\", numeric_transformer, numeric_feats),\n",
    "    (\"cat\", categorical_transformer, categorical_feats)\n",
    "], remainder=\"drop\")"
   ]
  },
  {
   "cell_type": "code",
   "execution_count": null,
   "id": "3e1df023",
   "metadata": {},
   "outputs": [],
   "source": []
  }
 ],
 "metadata": {
  "kernelspec": {
   "display_name": "venv",
   "language": "python",
   "name": "python3"
  },
  "language_info": {
   "codemirror_mode": {
    "name": "ipython",
    "version": 3
   },
   "file_extension": ".py",
   "mimetype": "text/x-python",
   "name": "python",
   "nbconvert_exporter": "python",
   "pygments_lexer": "ipython3",
   "version": "3.13.7"
  }
 },
 "nbformat": 4,
 "nbformat_minor": 5
}
