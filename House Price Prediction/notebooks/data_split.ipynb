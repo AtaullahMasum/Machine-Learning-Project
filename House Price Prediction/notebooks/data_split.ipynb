{
 "cells": [
  {
   "cell_type": "code",
   "execution_count": 5,
   "id": "d84b819b",
   "metadata": {},
   "outputs": [],
   "source": [
    "import pandas as pd\n",
    "from  sklearn.model_selection import train_test_split\n",
    "import os"
   ]
  },
  {
   "cell_type": "markdown",
   "id": "2604ba3e",
   "metadata": {},
   "source": [
    "# Load Original data"
   ]
  },
  {
   "cell_type": "code",
   "execution_count": 7,
   "id": "3f5080e7",
   "metadata": {},
   "outputs": [],
   "source": [
    "data_path  = \"../data/Housing.csv\"\n",
    "data = pd.read_csv(data_path)"
   ]
  },
  {
   "cell_type": "markdown",
   "id": "9fa9c09c",
   "metadata": {},
   "source": [
    "## Display basic info"
   ]
  },
  {
   "cell_type": "code",
   "execution_count": 8,
   "id": "f43e52d0",
   "metadata": {},
   "outputs": [
    {
     "name": "stdout",
     "output_type": "stream",
     "text": [
      "<class 'pandas.core.frame.DataFrame'>\n",
      "RangeIndex: 545 entries, 0 to 544\n",
      "Data columns (total 13 columns):\n",
      " #   Column            Non-Null Count  Dtype \n",
      "---  ------            --------------  ----- \n",
      " 0   price             545 non-null    int64 \n",
      " 1   area              545 non-null    int64 \n",
      " 2   bedrooms          545 non-null    int64 \n",
      " 3   bathrooms         545 non-null    int64 \n",
      " 4   stories           545 non-null    int64 \n",
      " 5   mainroad          545 non-null    object\n",
      " 6   guestroom         545 non-null    object\n",
      " 7   basement          545 non-null    object\n",
      " 8   hotwaterheating   545 non-null    object\n",
      " 9   airconditioning   545 non-null    object\n",
      " 10  parking           545 non-null    int64 \n",
      " 11  prefarea          545 non-null    object\n",
      " 12  furnishingstatus  545 non-null    object\n",
      "dtypes: int64(6), object(7)\n",
      "memory usage: 55.5+ KB\n",
      "None\n"
     ]
    }
   ],
   "source": [
    "print(data.info())"
   ]
  },
  {
   "cell_type": "code",
   "execution_count": 9,
   "id": "506c944e",
   "metadata": {},
   "outputs": [
    {
     "name": "stdout",
     "output_type": "stream",
     "text": [
      "Data Set loaded: 545 rows  and 13 columns\n"
     ]
    }
   ],
   "source": [
    "print(f\"Data Set loaded: {data.shape[0]} rows  and {data.shape[1]} columns\")"
   ]
  },
  {
   "cell_type": "code",
   "execution_count": 10,
   "id": "ad50f0e1",
   "metadata": {},
   "outputs": [
    {
     "name": "stdout",
     "output_type": "stream",
     "text": [
      "      price  area  bedrooms  bathrooms  stories mainroad guestroom basement  \\\n",
      "0  13300000  7420         4          2        3      yes        no       no   \n",
      "1  12250000  8960         4          4        4      yes        no       no   \n",
      "2  12250000  9960         3          2        2      yes        no      yes   \n",
      "3  12215000  7500         4          2        2      yes        no      yes   \n",
      "4  11410000  7420         4          1        2      yes       yes      yes   \n",
      "\n",
      "  hotwaterheating airconditioning  parking prefarea furnishingstatus  \n",
      "0              no             yes        2      yes        furnished  \n",
      "1              no             yes        3       no        furnished  \n",
      "2              no              no        2      yes   semi-furnished  \n",
      "3              no             yes        3      yes        furnished  \n",
      "4              no             yes        2       no        furnished  \n"
     ]
    }
   ],
   "source": [
    "print(data.head())"
   ]
  },
  {
   "cell_type": "markdown",
   "id": "f7e8f9c9",
   "metadata": {},
   "source": [
    "## Split the data (80% train, 20% test)"
   ]
  },
  {
   "cell_type": "code",
   "execution_count": 11,
   "id": "803ea047",
   "metadata": {},
   "outputs": [],
   "source": [
    "train_data, test_data = train_test_split(data, test_size=0.2, random_state=42)"
   ]
  },
  {
   "cell_type": "code",
   "execution_count": 12,
   "id": "8a0d3c7e",
   "metadata": {},
   "outputs": [],
   "source": [
    "os.makedirs(\"../data/\", exist_ok=True)"
   ]
  },
  {
   "cell_type": "markdown",
   "id": "632ed547",
   "metadata": {},
   "source": [
    "##  Save the split datasets"
   ]
  },
  {
   "cell_type": "code",
   "execution_count": 13,
   "id": "6c11cb5b",
   "metadata": {},
   "outputs": [],
   "source": [
    "train_data.to_csv(\"../data/train.csv\", index=False)\n",
    "test_data.to_csv(\"../data/test.csv\", index=False)"
   ]
  },
  {
   "cell_type": "code",
   "execution_count": 15,
   "id": "9f17990a",
   "metadata": {},
   "outputs": [
    {
     "name": "stdout",
     "output_type": "stream",
     "text": [
      "✅ Data successfully split and saved!\n",
      "train shape: (436, 13)\n",
      "test shape: (109, 13)\n"
     ]
    }
   ],
   "source": [
    "print(\"✅ Data successfully split and saved!\")\n",
    "print(f\"train shape: {train_data.shape}\")\n",
    "print(f\"test shape: {test_data.shape}\")"
   ]
  },
  {
   "cell_type": "code",
   "execution_count": null,
   "id": "3bb4a632",
   "metadata": {},
   "outputs": [],
   "source": []
  }
 ],
 "metadata": {
  "kernelspec": {
   "display_name": "venv",
   "language": "python",
   "name": "python3"
  },
  "language_info": {
   "codemirror_mode": {
    "name": "ipython",
    "version": 3
   },
   "file_extension": ".py",
   "mimetype": "text/x-python",
   "name": "python",
   "nbconvert_exporter": "python",
   "pygments_lexer": "ipython3",
   "version": "3.13.7"
  }
 },
 "nbformat": 4,
 "nbformat_minor": 5
}
